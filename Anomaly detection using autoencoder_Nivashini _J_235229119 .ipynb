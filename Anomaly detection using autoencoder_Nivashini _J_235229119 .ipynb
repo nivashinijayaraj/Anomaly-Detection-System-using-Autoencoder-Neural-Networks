{
 "cells": [
  {
   "cell_type": "code",
   "execution_count": 1,
   "id": "287c9d8d",
   "metadata": {},
   "outputs": [
    {
     "name": "stdout",
     "output_type": "stream",
     "text": [
      "Requirement already satisfied: tensorflow in c:\\users\\visha\\anaconda3\\lib\\site-packages (2.16.1)\n",
      "Requirement already satisfied: tensorflow-intel==2.16.1 in c:\\users\\visha\\anaconda3\\lib\\site-packages (from tensorflow) (2.16.1)\n",
      "Requirement already satisfied: absl-py>=1.0.0 in c:\\users\\visha\\anaconda3\\lib\\site-packages (from tensorflow-intel==2.16.1->tensorflow) (2.1.0)\n",
      "Requirement already satisfied: astunparse>=1.6.0 in c:\\users\\visha\\anaconda3\\lib\\site-packages (from tensorflow-intel==2.16.1->tensorflow) (1.6.3)\n",
      "Requirement already satisfied: flatbuffers>=23.5.26 in c:\\users\\visha\\anaconda3\\lib\\site-packages (from tensorflow-intel==2.16.1->tensorflow) (24.3.7)\n",
      "Requirement already satisfied: gast!=0.5.0,!=0.5.1,!=0.5.2,>=0.2.1 in c:\\users\\visha\\anaconda3\\lib\\site-packages (from tensorflow-intel==2.16.1->tensorflow) (0.5.4)\n",
      "Requirement already satisfied: google-pasta>=0.1.1 in c:\\users\\visha\\anaconda3\\lib\\site-packages (from tensorflow-intel==2.16.1->tensorflow) (0.2.0)\n",
      "Requirement already satisfied: h5py>=3.10.0 in c:\\users\\visha\\anaconda3\\lib\\site-packages (from tensorflow-intel==2.16.1->tensorflow) (3.10.0)\n",
      "Requirement already satisfied: libclang>=13.0.0 in c:\\users\\visha\\anaconda3\\lib\\site-packages (from tensorflow-intel==2.16.1->tensorflow) (18.1.1)\n",
      "Requirement already satisfied: ml-dtypes~=0.3.1 in c:\\users\\visha\\anaconda3\\lib\\site-packages (from tensorflow-intel==2.16.1->tensorflow) (0.3.2)\n",
      "Requirement already satisfied: opt-einsum>=2.3.2 in c:\\users\\visha\\anaconda3\\lib\\site-packages (from tensorflow-intel==2.16.1->tensorflow) (3.3.0)\n",
      "Requirement already satisfied: packaging in c:\\users\\visha\\anaconda3\\lib\\site-packages (from tensorflow-intel==2.16.1->tensorflow) (23.0)\n",
      "Requirement already satisfied: protobuf!=4.21.0,!=4.21.1,!=4.21.2,!=4.21.3,!=4.21.4,!=4.21.5,<5.0.0dev,>=3.20.3 in c:\\users\\visha\\anaconda3\\lib\\site-packages (from tensorflow-intel==2.16.1->tensorflow) (4.25.3)\n",
      "Requirement already satisfied: requests<3,>=2.21.0 in c:\\users\\visha\\anaconda3\\lib\\site-packages (from tensorflow-intel==2.16.1->tensorflow) (2.31.0)\n",
      "Requirement already satisfied: setuptools in c:\\users\\visha\\anaconda3\\lib\\site-packages (from tensorflow-intel==2.16.1->tensorflow) (68.0.0)\n",
      "Requirement already satisfied: six>=1.12.0 in c:\\users\\visha\\anaconda3\\lib\\site-packages (from tensorflow-intel==2.16.1->tensorflow) (1.16.0)\n",
      "Requirement already satisfied: termcolor>=1.1.0 in c:\\users\\visha\\anaconda3\\lib\\site-packages (from tensorflow-intel==2.16.1->tensorflow) (2.4.0)\n",
      "Requirement already satisfied: typing-extensions>=3.6.6 in c:\\users\\visha\\anaconda3\\lib\\site-packages (from tensorflow-intel==2.16.1->tensorflow) (4.7.1)\n",
      "Requirement already satisfied: wrapt>=1.11.0 in c:\\users\\visha\\anaconda3\\lib\\site-packages (from tensorflow-intel==2.16.1->tensorflow) (1.14.1)\n",
      "Requirement already satisfied: grpcio<2.0,>=1.24.3 in c:\\users\\visha\\anaconda3\\lib\\site-packages (from tensorflow-intel==2.16.1->tensorflow) (1.62.1)\n",
      "Requirement already satisfied: tensorboard<2.17,>=2.16 in c:\\users\\visha\\anaconda3\\lib\\site-packages (from tensorflow-intel==2.16.1->tensorflow) (2.16.2)\n",
      "Requirement already satisfied: keras>=3.0.0 in c:\\users\\visha\\anaconda3\\lib\\site-packages (from tensorflow-intel==2.16.1->tensorflow) (3.1.1)\n",
      "Requirement already satisfied: tensorflow-io-gcs-filesystem>=0.23.1 in c:\\users\\visha\\anaconda3\\lib\\site-packages (from tensorflow-intel==2.16.1->tensorflow) (0.31.0)\n",
      "Requirement already satisfied: numpy<2.0.0,>=1.23.5 in c:\\users\\visha\\anaconda3\\lib\\site-packages (from tensorflow-intel==2.16.1->tensorflow) (1.24.3)\n",
      "Requirement already satisfied: wheel<1.0,>=0.23.0 in c:\\users\\visha\\anaconda3\\lib\\site-packages (from astunparse>=1.6.0->tensorflow-intel==2.16.1->tensorflow) (0.38.4)\n",
      "Requirement already satisfied: rich in c:\\users\\visha\\anaconda3\\lib\\site-packages (from keras>=3.0.0->tensorflow-intel==2.16.1->tensorflow) (13.7.1)\n",
      "Requirement already satisfied: namex in c:\\users\\visha\\anaconda3\\lib\\site-packages (from keras>=3.0.0->tensorflow-intel==2.16.1->tensorflow) (0.0.7)\n",
      "Requirement already satisfied: optree in c:\\users\\visha\\anaconda3\\lib\\site-packages (from keras>=3.0.0->tensorflow-intel==2.16.1->tensorflow) (0.10.0)\n",
      "Requirement already satisfied: charset-normalizer<4,>=2 in c:\\users\\visha\\anaconda3\\lib\\site-packages (from requests<3,>=2.21.0->tensorflow-intel==2.16.1->tensorflow) (2.0.4)\n",
      "Requirement already satisfied: idna<4,>=2.5 in c:\\users\\visha\\anaconda3\\lib\\site-packages (from requests<3,>=2.21.0->tensorflow-intel==2.16.1->tensorflow) (3.4)\n",
      "Requirement already satisfied: urllib3<3,>=1.21.1 in c:\\users\\visha\\anaconda3\\lib\\site-packages (from requests<3,>=2.21.0->tensorflow-intel==2.16.1->tensorflow) (1.26.16)\n",
      "Requirement already satisfied: certifi>=2017.4.17 in c:\\users\\visha\\anaconda3\\lib\\site-packages (from requests<3,>=2.21.0->tensorflow-intel==2.16.1->tensorflow) (2023.7.22)\n",
      "Requirement already satisfied: markdown>=2.6.8 in c:\\users\\visha\\anaconda3\\lib\\site-packages (from tensorboard<2.17,>=2.16->tensorflow-intel==2.16.1->tensorflow) (3.4.1)\n",
      "Requirement already satisfied: tensorboard-data-server<0.8.0,>=0.7.0 in c:\\users\\visha\\anaconda3\\lib\\site-packages (from tensorboard<2.17,>=2.16->tensorflow-intel==2.16.1->tensorflow) (0.7.2)\n",
      "Requirement already satisfied: werkzeug>=1.0.1 in c:\\users\\visha\\anaconda3\\lib\\site-packages (from tensorboard<2.17,>=2.16->tensorflow-intel==2.16.1->tensorflow) (2.2.3)\n",
      "Requirement already satisfied: MarkupSafe>=2.1.1 in c:\\users\\visha\\anaconda3\\lib\\site-packages (from werkzeug>=1.0.1->tensorboard<2.17,>=2.16->tensorflow-intel==2.16.1->tensorflow) (2.1.1)\n",
      "Requirement already satisfied: markdown-it-py>=2.2.0 in c:\\users\\visha\\anaconda3\\lib\\site-packages (from rich->keras>=3.0.0->tensorflow-intel==2.16.1->tensorflow) (2.2.0)\n",
      "Requirement already satisfied: pygments<3.0.0,>=2.13.0 in c:\\users\\visha\\anaconda3\\lib\\site-packages (from rich->keras>=3.0.0->tensorflow-intel==2.16.1->tensorflow) (2.15.1)\n",
      "Requirement already satisfied: mdurl~=0.1 in c:\\users\\visha\\anaconda3\\lib\\site-packages (from markdown-it-py>=2.2.0->rich->keras>=3.0.0->tensorflow-intel==2.16.1->tensorflow) (0.1.0)\n",
      "Note: you may need to restart the kernel to use updated packages.\n"
     ]
    }
   ],
   "source": [
    "pip install tensorflow"
   ]
  },
  {
   "cell_type": "code",
   "execution_count": 2,
   "id": "f90ced81",
   "metadata": {},
   "outputs": [],
   "source": [
    "import numpy as np\n",
    "import matplotlib.pyplot as plt\n",
    "from tensorflow.keras.layers import Input, Dense\n",
    "from tensorflow.keras.models import Model\n",
    "\n",
    "\n"
   ]
  },
  {
   "cell_type": "code",
   "execution_count": 3,
   "id": "8b39783d",
   "metadata": {},
   "outputs": [],
   "source": [
    "def extract_features(data):\n",
    "    # Add feature extraction logic here\n",
    "    # Example: Extract statistical features (mean, standard deviation, etc.)\n",
    "    features = np.mean(data, axis=1)  # Example: Mean value of each data sample\n",
    "    return features\n",
    "\n"
   ]
  },
  {
   "cell_type": "code",
   "execution_count": 4,
   "id": "fe19a098",
   "metadata": {},
   "outputs": [],
   "source": [
    "# Function for real-time monitoring and anomaly visualization\n",
    "def visualize_anomalies(data, reconstruction_error, threshold):\n",
    "    # Visualize data and anomalies\n",
    "    plt.figure(figsize=(10, 6))\n",
    "    plt.plot(reconstruction_error, label='Reconstruction Error', color='blue')\n",
    "    plt.axhline(y=threshold, color='red', linestyle='--', label='Threshold')\n",
    "    plt.xlabel('Sample Index')\n",
    "    plt.ylabel('Reconstruction Error')\n",
    "    plt.title('Anomaly Detection')\n",
    "    plt.legend()\n",
    "    plt.show()\n"
   ]
  },
  {
   "cell_type": "code",
   "execution_count": 5,
   "id": "b90e1af8",
   "metadata": {},
   "outputs": [
    {
     "data": {
      "text/plain": [
       "array([[9.78542e-01, 7.70067e-01, 8.40298e-01, ..., 3.13423e-01,\n",
       "        1.05000e-04, 0.00000e+00],\n",
       "       [9.35217e-01, 7.53118e-01, 8.68141e-01, ..., 3.11911e-01,\n",
       "        1.47390e-02, 0.00000e+00],\n",
       "       [9.41878e-01, 7.65304e-01, 8.68484e-01, ..., 3.14371e-01,\n",
       "        4.80700e-03, 0.00000e+00],\n",
       "       ...,\n",
       "       [9.90905e-01, 7.64080e-01, 7.81102e-01, ..., 3.12585e-01,\n",
       "        2.64200e-03, 0.00000e+00],\n",
       "       [9.54209e-01, 7.72856e-01, 8.49587e-01, ..., 3.15245e-01,\n",
       "        3.89000e-04, 0.00000e+00],\n",
       "       [9.49232e-01, 7.65256e-01, 8.49601e-01, ..., 3.13401e-01,\n",
       "        8.44600e-03, 0.00000e+00]])"
      ]
     },
     "execution_count": 5,
     "metadata": {},
     "output_type": "execute_result"
    }
   ],
   "source": [
    "# Generate synthetic data for demonstration\n",
    "# Replace this with your actual dataset\n",
    "#np.random.seed(42)\n",
    "#X_train = np.random.normal(loc=0, scale=1, size=(1000, 10))\n",
    "\n",
    "#X_train = np.loadtxt('creditcardfraud_normalised.csv', delimiter=',')\n",
    "import pandas as pd\n",
    "\n",
    "# Load data from CSV file excluding the header\n",
    "data = pd.read_csv('creditcardfraud_normalised.csv', skiprows=1)\n",
    "\n",
    "# Extract features from the loaded data\n",
    "X_train = data.values\n",
    "X_train\n"
   ]
  },
  {
   "cell_type": "code",
   "execution_count": 7,
   "id": "ee00af8c",
   "metadata": {},
   "outputs": [],
   "source": [
    "                                                                  # Define input shape\n",
    "input_shape = X_train.shape[1]\n"
   ]
  },
  {
   "cell_type": "code",
   "execution_count": 8,
   "id": "fbe11151",
   "metadata": {},
   "outputs": [],
   "source": [
    "\n",
    "\n",
    "                                                                    # Define the architecture of the autoencoder\n",
    "input_layer = Input(shape=(input_shape,))\n",
    "encoded = Dense(64, activation='relu')(input_layer)                  # Encoding layer\n",
    "decoded = Dense(input_shape, activation='sigmoid')(encoded)              # Decoding layer"
   ]
  },
  {
   "cell_type": "code",
   "execution_count": 9,
   "id": "7564dafe",
   "metadata": {},
   "outputs": [],
   "source": [
    "\n",
    "                                                                  # Create autoencoder model\n",
    "autoencoder = Model(input_layer, decoded)\n",
    "\n",
    "                                                                # Compile autoencoder model\n",
    "autoencoder.compile(optimizer='adam', loss='mse')"
   ]
  },
  {
   "cell_type": "code",
   "execution_count": 10,
   "id": "14e5f9c5",
   "metadata": {},
   "outputs": [
    {
     "name": "stdout",
     "output_type": "stream",
     "text": [
      "Epoch 1/10\n",
      "\u001b[1m8901/8901\u001b[0m \u001b[32m━━━━━━━━━━━━━━━━━━━━\u001b[0m\u001b[37m\u001b[0m \u001b[1m18s\u001b[0m 2ms/step - loss: 0.0018\n",
      "Epoch 2/10\n",
      "\u001b[1m8901/8901\u001b[0m \u001b[32m━━━━━━━━━━━━━━━━━━━━\u001b[0m\u001b[37m\u001b[0m \u001b[1m16s\u001b[0m 2ms/step - loss: 7.1590e-05\n",
      "Epoch 3/10\n",
      "\u001b[1m8901/8901\u001b[0m \u001b[32m━━━━━━━━━━━━━━━━━━━━\u001b[0m\u001b[37m\u001b[0m \u001b[1m16s\u001b[0m 2ms/step - loss: 2.8810e-05\n",
      "Epoch 4/10\n",
      "\u001b[1m8901/8901\u001b[0m \u001b[32m━━━━━━━━━━━━━━━━━━━━\u001b[0m\u001b[37m\u001b[0m \u001b[1m17s\u001b[0m 2ms/step - loss: 1.6771e-05\n",
      "Epoch 5/10\n",
      "\u001b[1m8901/8901\u001b[0m \u001b[32m━━━━━━━━━━━━━━━━━━━━\u001b[0m\u001b[37m\u001b[0m \u001b[1m16s\u001b[0m 2ms/step - loss: 1.2968e-05\n",
      "Epoch 6/10\n",
      "\u001b[1m8901/8901\u001b[0m \u001b[32m━━━━━━━━━━━━━━━━━━━━\u001b[0m\u001b[37m\u001b[0m \u001b[1m16s\u001b[0m 2ms/step - loss: 1.0437e-05\n",
      "Epoch 7/10\n",
      "\u001b[1m8901/8901\u001b[0m \u001b[32m━━━━━━━━━━━━━━━━━━━━\u001b[0m\u001b[37m\u001b[0m \u001b[1m15s\u001b[0m 2ms/step - loss: 9.2268e-06\n",
      "Epoch 8/10\n",
      "\u001b[1m8901/8901\u001b[0m \u001b[32m━━━━━━━━━━━━━━━━━━━━\u001b[0m\u001b[37m\u001b[0m \u001b[1m15s\u001b[0m 2ms/step - loss: 8.1656e-06\n",
      "Epoch 9/10\n",
      "\u001b[1m8901/8901\u001b[0m \u001b[32m━━━━━━━━━━━━━━━━━━━━\u001b[0m\u001b[37m\u001b[0m \u001b[1m14s\u001b[0m 2ms/step - loss: 7.7599e-06\n",
      "Epoch 10/10\n",
      "\u001b[1m8901/8901\u001b[0m \u001b[32m━━━━━━━━━━━━━━━━━━━━\u001b[0m\u001b[37m\u001b[0m \u001b[1m14s\u001b[0m 2ms/step - loss: 7.5386e-06\n",
      "\u001b[1m8901/8901\u001b[0m \u001b[32m━━━━━━━━━━━━━━━━━━━━\u001b[0m\u001b[37m\u001b[0m \u001b[1m13s\u001b[0m 1ms/step\n"
     ]
    },
    {
     "data": {
      "text/plain": [
       "array([0.5104506 , 0.5022426 , 0.49499223, ..., 0.5109279 , 0.51722115,\n",
       "       0.49562663], dtype=float32)"
      ]
     },
     "execution_count": 10,
     "metadata": {},
     "output_type": "execute_result"
    }
   ],
   "source": [
    "       \n",
    "                                                               # Train the autoencoder using normal data samples\n",
    "autoencoder.fit(X_train, X_train, epochs=10, batch_size=32)\n",
    "\n",
    "                                                        # Use the trained autoencoder to reconstruct data samples\n",
    "reconstructed_data = autoencoder.predict(X_train)\n",
    "\n",
    "                                                          # Extract features from reconstructed data\n",
    "extracted_features = extract_features(reconstructed_data)\n",
    "extracted_features"
   ]
  },
  {
   "cell_type": "code",
   "execution_count": 11,
   "id": "9fb3124b",
   "metadata": {},
   "outputs": [
    {
     "data": {
      "text/plain": [
       "array([1.74055989e-06, 1.03524985e-05, 1.07116800e-05, ...,\n",
       "       4.25699023e-06, 2.28102689e-05, 2.70581347e-06])"
      ]
     },
     "execution_count": 11,
     "metadata": {},
     "output_type": "execute_result"
    }
   ],
   "source": [
    "                                                             # Calculate reconstruction error for each data sample\n",
    "reconstruction_error = np.mean(np.square(X_train - reconstructed_data), axis=1)\n",
    "reconstruction_error"
   ]
  },
  {
   "cell_type": "code",
   "execution_count": 12,
   "id": "10aa7f20",
   "metadata": {},
   "outputs": [
    {
     "data": {
      "text/plain": [
       "2.040424869723233e-05"
      ]
     },
     "execution_count": 12,
     "metadata": {},
     "output_type": "execute_result"
    }
   ],
   "source": [
    "                               # Set a threshold for anomaly detection \n",
    "                                 #(e.g., based on reconstruction error percentiles)\n",
    "threshold = np.percentile(reconstruction_error, 95)\n",
    "threshold"
   ]
  },
  {
   "cell_type": "code",
   "execution_count": 14,
   "id": "7b945c5a",
   "metadata": {},
   "outputs": [
    {
     "data": {
      "text/plain": [
       "array([[9.25621e-01, 7.58073e-01, 8.77619e-01, ..., 3.05086e-01,\n",
       "        1.36200e-03, 0.00000e+00],\n",
       "       [9.37925e-01, 7.51704e-01, 8.69304e-01, ..., 2.98222e-01,\n",
       "        3.47100e-03, 0.00000e+00],\n",
       "       [8.80569e-01, 7.20524e-01, 8.96376e-01, ..., 3.03864e-01,\n",
       "        7.78500e-03, 0.00000e+00],\n",
       "       ...,\n",
       "       [7.45650e-01, 8.74755e-01, 6.90525e-01, ..., 3.38142e-01,\n",
       "        3.84000e-04, 0.00000e+00],\n",
       "       [7.56448e-01, 8.73531e-01, 6.66991e-01, ..., 3.29840e-01,\n",
       "        3.00000e-05, 0.00000e+00],\n",
       "       [9.54209e-01, 7.72856e-01, 8.49587e-01, ..., 3.15245e-01,\n",
       "        3.89000e-04, 0.00000e+00]])"
      ]
     },
     "execution_count": 14,
     "metadata": {},
     "output_type": "execute_result"
    }
   ],
   "source": [
    "                                          # Detect anomalies based on reconstruction error exceeding the threshold\n",
    "anomalies = X_train[reconstruction_error > threshold]\n",
    "anomalies"
   ]
  },
  {
   "cell_type": "code",
   "execution_count": 15,
   "id": "3138061c",
   "metadata": {},
   "outputs": [
    {
     "data": {
      "image/png": "[encoded data removed]",
      "text/plain": [
       "<Figure size 1000x600 with 1 Axes>"
      ]
     },
     "metadata": {},
     "output_type": "display_data"
    }
   ],
   "source": [
    "\n",
    "visualize_anomalies(X_train, reconstruction_error, threshold)\n"
   ]
  },
  {
   "cell_type": "code",
   "execution_count": null,
   "id": "4379b460",
   "metadata": {},
   "outputs": [],
   "source": []
  }
 ],
 "metadata": {
  "kernelspec": {
   "display_name": "Python 3 (ipykernel)",
   "language": "python",
   "name": "python3"
  },
  "language_info": {
   "codemirror_mode": {
    "name": "ipython",
    "version": 3
   },
   "file_extension": ".py",
   "mimetype": "text/x-python",
   "name": "python",
   "nbconvert_exporter": "python",
   "pygments_lexer": "ipython3",
   "version": "3.11.4"
  }
 },
 "nbformat": 4,
 "nbformat_minor": 5
}
